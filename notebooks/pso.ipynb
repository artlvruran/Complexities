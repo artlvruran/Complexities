{
 "cells": [
  {
   "cell_type": "code",
   "id": "initial_id",
   "metadata": {
    "collapsed": true,
    "ExecuteTime": {
     "end_time": "2025-05-14T14:19:31.839968Z",
     "start_time": "2025-05-14T14:19:29.325410Z"
    }
   },
   "source": [
    "import os, sys\n",
    "\n",
    "import matplotlib.pyplot as plt\n",
    "dir2 = os.path.abspath('')\n",
    "dir1 = os.path.dirname(dir2)\n",
    "if not dir1 in sys.path: sys.path.append(dir1)\n",
    "import numpy as np\n",
    "\n",
    "import numpy as np\n",
    "from scipy.spatial import distance_matrix\n",
    "from src.pso import Swarm\n",
    "from src.graph import Graph"
   ],
   "outputs": [],
   "execution_count": 2
  },
  {
   "metadata": {
    "ExecuteTime": {
     "end_time": "2025-05-14T14:19:31.852365Z",
     "start_time": "2025-05-14T14:19:31.841143Z"
    }
   },
   "cell_type": "code",
   "source": [
    "from IPython.core.display_functions import clear_output\n",
    "\n",
    "import os\n",
    "from scipy.spatial import distance_matrix\n",
    "from src.graph import Graph\n",
    "\n",
    "\n",
    "def read_tsp_file(file_path: str) -> np.ndarray:\n",
    "    with open(file_path, 'r') as f:\n",
    "        lines = [line.strip() for line in f if line.strip()]\n",
    "        num_cities = int(lines[0])\n",
    "        coords = []\n",
    "        for line in lines[1:num_cities + 1]:\n",
    "            x, y = map(float, line.split())\n",
    "            coords.append([x, y])\n",
    "\n",
    "        return np.array(coords)"
   ],
   "id": "62449a3da12db70c",
   "outputs": [],
   "execution_count": 3
  },
  {
   "metadata": {},
   "cell_type": "code",
   "source": [
    "import matplotlib.pyplot as plt\n",
    "\n",
    "coords = read_tsp_file('../data/tsp_51_1')\n",
    "dist_mat = distance_matrix(coords, coords)\n",
    "graph = Graph(dist_mat, coords, eval_nn=True)\n",
    "\n",
    "swarm = Swarm(graph, particle_count=50, self_trust=0.4, past_trust=0.5, global_trust=0.7)\n",
    "output = swarm.run(iterations=5000)\n",
    "history = output.history\n",
    "\n"
   ],
   "id": "e026e8cf779fce6f",
   "execution_count": null,
   "outputs": []
  },
  {
   "metadata": {},
   "cell_type": "code",
   "source": [
    "plt.style.use('default')\n",
    "plt.rc('font', family='serif')\n",
    "\n",
    "plt.figure(figsize=(8, 5))\n",
    "plt.plot(range(1, len(history) + 1), history, linewidth=1.5, label='PSO')\n",
    "plt.xlabel('Итерация', fontsize=12)\n",
    "plt.ylabel('Лучшая найденная длина пути', fontsize=12)\n",
    "plt.legend(frameon=False)\n",
    "plt.grid(True, linestyle='--', alpha=0.7)\n",
    "plt.tight_layout()\n",
    "plt.savefig('pso_convergence_tsp51.pdf', format='pdf', dpi=300)\n",
    "plt.show()\n"
   ],
   "id": "163a7a3cf4c2bc1d",
   "outputs": [],
   "execution_count": null
  },
  {
   "metadata": {
    "ExecuteTime": {
     "end_time": "2025-05-14T16:15:49.027595Z",
     "start_time": "2025-05-14T14:19:33.895136Z"
    }
   },
   "cell_type": "code",
   "source": [
    "import pandas as pd\n",
    "import numpy as np\n",
    "import concurrent\n",
    "from concurrent.futures import ProcessPoolExecutor, as_completed\n",
    "from collections import defaultdict\n",
    "\n",
    "\n",
    "datasets = ['tsp_51_1', 'tsp_100_3', 'tsp_200_2']\n",
    "n_runs = 10\n",
    "iterations = 5000\n",
    "\n",
    "def run_pso(ds_name: str):\n",
    "    coords = read_tsp_file(f'../data/{ds_name}')\n",
    "    dist_mat = distance_matrix(coords, coords)\n",
    "    graph = Graph(dist_mat, coords, eval_nn=True)\n",
    "\n",
    "    pso = Swarm(graph, particle_count=20, self_trust=0.4, past_trust=0.2, global_trust=0.2)\n",
    "    output = pso.run(iterations=iterations)\n",
    "\n",
    "    return output.best_dist, output.overall_time\n",
    "\n",
    "def wrapper(args):\n",
    "    ds = args\n",
    "    bd, tm = run_pso(ds)\n",
    "    return ds, bd, tm\n",
    "\n",
    "if __name__ == '__main__':\n",
    "    tasks = [ds for ds in datasets for _ in range(n_runs)]\n",
    "    total_tasks = len(tasks)\n",
    "    \n",
    "    with ProcessPoolExecutor() as executor:\n",
    "        futures = [executor.submit(wrapper, task) for task in tasks]\n",
    "        \n",
    "        results = []\n",
    "        completed = 0\n",
    "        print(\"Прогресс выполнения:\")\n",
    "        for future in as_completed(futures):\n",
    "            results.append(future.result())\n",
    "            completed += 1\n",
    "            progress = (completed / total_tasks) * 100\n",
    "            print(f\"\\r{progress:.1f}% ({completed}/{total_tasks})\", end=\"\", flush=True)\n",
    "\n",
    "    grouped = defaultdict(lambda: {'bests': [], 'times': []})\n",
    "    for ds, bd, tm in results:\n",
    "        grouped[ds]['bests'].append(bd)\n",
    "        grouped[ds]['times'].append(tm)\n",
    "\n",
    "    records = []\n",
    "    for ds in datasets:\n",
    "        data = grouped[ds]\n",
    "        records.append({\n",
    "            'Dataset': ds,\n",
    "            'Mean Best Distance': np.mean(data['bests']),\n",
    "            'Min Best Distance': np.min(data['bests']),\n",
    "            'Mean Time (s)': np.mean(data['times']),\n",
    "        })\n",
    "\n",
    "    df = pd.DataFrame(records)\n",
    "    print(\"\\n\\nРезультаты:\")\n",
    "    print(df)\n",
    "\n",
    "    with open('pso_summary.tex', 'w') as f:\n",
    "        f.write(df.to_latex(\n",
    "            index=False,\n",
    "            float_format=\"%.2f\",\n",
    "            caption=\"Сравнительная статистика обычного PSO по трём TSP‑наборaм (5×5000 итераций)\",\n",
    "            label=\"tab:pso_summary\",\n",
    "        ))"
   ],
   "id": "2c09c75897b08774",
   "outputs": [
    {
     "name": "stdout",
     "output_type": "stream",
     "text": [
      "Прогресс выполнения:\n",
      "100.0% (30/30)\n",
      "\n",
      "Результаты:\n",
      "     Dataset  Mean Best Distance  Min Best Distance  Mean Time (s)\n",
      "0   tsp_51_1          465.018083         459.785586    1662.154330\n",
      "1  tsp_100_3        23192.462128       23164.502392    3198.352998\n",
      "2  tsp_200_2        35252.774195       34855.646066    5144.906576\n"
     ]
    }
   ],
   "execution_count": 4
  },
  {
   "metadata": {},
   "cell_type": "code",
   "outputs": [],
   "execution_count": null,
   "source": "",
   "id": "34f5d427784c957"
  }
 ],
 "metadata": {
  "kernelspec": {
   "display_name": "Python 3",
   "language": "python",
   "name": "python3"
  },
  "language_info": {
   "codemirror_mode": {
    "name": "ipython",
    "version": 2
   },
   "file_extension": ".py",
   "mimetype": "text/x-python",
   "name": "python",
   "nbconvert_exporter": "python",
   "pygments_lexer": "ipython2",
   "version": "2.7.6"
  }
 },
 "nbformat": 4,
 "nbformat_minor": 5
}

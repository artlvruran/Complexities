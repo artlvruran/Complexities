{
 "cells": [
  {
   "cell_type": "code",
   "id": "initial_id",
   "metadata": {
    "ExecuteTime": {
     "end_time": "2025-04-19T17:01:28.447421Z",
     "start_time": "2025-04-19T17:01:26.370210Z"
    }
   },
   "source": [
    "import os, sys\n",
    "\n",
    "import matplotlib.pyplot as plt\n",
    "dir2 = os.path.abspath('')\n",
    "dir1 = os.path.dirname(dir2)\n",
    "if not dir1 in sys.path: sys.path.append(dir1)\n",
    "\n",
    "\n",
    "import numpy as np\n",
    "from scipy.spatial import distance_matrix\n",
    "from src.aco import Colony\n",
    "from src.graph import Graph"
   ],
   "outputs": [],
   "execution_count": 1
  },
  {
   "cell_type": "code",
   "id": "1913a66b1c8a5c8d",
   "metadata": {
    "ExecuteTime": {
     "end_time": "2025-04-19T17:01:28.459028Z",
     "start_time": "2025-04-19T17:01:28.450900Z"
    }
   },
   "source": [
    "def read_tsp_file(file_path: str) -> np.ndarray:\n",
    "    with open(file_path, 'r') as f:\n",
    "        lines = [line.strip() for line in f if line.strip()]\n",
    "        num_cities = int(lines[0])\n",
    "        coords = []\n",
    "        for line in lines[1:num_cities+1]:\n",
    "            x, y = map(float, line.split())\n",
    "            coords.append([x, y])\n",
    "        \n",
    "        return np.array(coords)\n",
    "\n"
   ],
   "outputs": [],
   "execution_count": 2
  },
  {
   "cell_type": "code",
   "id": "9946ed8b5890f365",
   "metadata": {
    "ExecuteTime": {
     "end_time": "2025-04-18T15:26:55.784606Z",
     "start_time": "2025-04-18T15:26:55.775285Z"
    }
   },
   "source": [
    "def solve_test(filename):\n",
    "    file_path = os.path.join('../data/', filename)\n",
    "    coords = read_tsp_file(file_path)\n",
    "    \n",
    "    dist_matrix = distance_matrix(coords, coords)\n",
    "    graph = Graph(dist_matrix, coords, eval_nn=False)\n",
    "    fig, ax = plt.subplots()\n",
    "    aco = Colony(\n",
    "        graph=graph,\n",
    "        ant_count=100,\n",
    "        generations=1000,\n",
    "        fig=fig,\n",
    "        ax=ax,\n",
    "        type='acs',\n",
    "        top=5,\n",
    "        alpha=1,\n",
    "        beta=9,\n",
    "        rho=0.1,\n",
    "        q0=0.9,\n",
    "        phi=0.1,\n",
    "        cl_size=5\n",
    "    )\n",
    "    best_path, best_distance = aco.run();"
   ],
   "outputs": [],
   "execution_count": 5
  },
  {
   "cell_type": "code",
   "id": "b7fc11fcf1fbc442",
   "metadata": {
    "scrolled": true
   },
   "source": [
    "\n",
    "solve_test('tsp_51_1')"
   ],
   "execution_count": 6,
   "outputs": [
    {
     "name": "stderr",
     "output_type": "stream",
     "text": [
      "ACO Progress:   1%|          | 7/1000 [00:09<18:54] , Best: 460.48\u001B[A\n",
      "ACO Progress:   1%|          | 8/1000 [00:09<18:53] , Best: 460.48\u001B[A"
     ]
    },
    {
     "ename": "KeyboardInterrupt",
     "evalue": "",
     "output_type": "error",
     "traceback": [
      "\u001B[0;31m---------------------------------------------------------------------------\u001B[0m",
      "\u001B[0;31mKeyboardInterrupt\u001B[0m                         Traceback (most recent call last)",
      "Cell \u001B[0;32mIn[6], line 1\u001B[0m\n\u001B[0;32m----> 1\u001B[0m solve_test(\u001B[38;5;124m'\u001B[39m\u001B[38;5;124mtsp_51_1\u001B[39m\u001B[38;5;124m'\u001B[39m)\n",
      "Cell \u001B[0;32mIn[5], line 23\u001B[0m, in \u001B[0;36msolve_test\u001B[0;34m(filename)\u001B[0m\n\u001B[1;32m      7\u001B[0m fig, ax \u001B[38;5;241m=\u001B[39m plt\u001B[38;5;241m.\u001B[39msubplots()\n\u001B[1;32m      8\u001B[0m aco \u001B[38;5;241m=\u001B[39m Colony(\n\u001B[1;32m      9\u001B[0m     graph\u001B[38;5;241m=\u001B[39mgraph,\n\u001B[1;32m     10\u001B[0m     ant_count\u001B[38;5;241m=\u001B[39m\u001B[38;5;241m100\u001B[39m,\n\u001B[0;32m   (...)\u001B[0m\n\u001B[1;32m     21\u001B[0m     cl_size\u001B[38;5;241m=\u001B[39m\u001B[38;5;241m5\u001B[39m\n\u001B[1;32m     22\u001B[0m )\n\u001B[0;32m---> 23\u001B[0m best_path, best_distance \u001B[38;5;241m=\u001B[39m aco\u001B[38;5;241m.\u001B[39mrun()\n",
      "File \u001B[0;32m~/compl/project/src/aco.py:343\u001B[0m, in \u001B[0;36mColony.run\u001B[0;34m(self)\u001B[0m\n\u001B[1;32m    341\u001B[0m \u001B[38;5;28mself\u001B[39m\u001B[38;5;241m.\u001B[39mgenerate_solutions()\n\u001B[1;32m    342\u001B[0m \u001B[38;5;28;01mfor\u001B[39;00m ant \u001B[38;5;129;01min\u001B[39;00m \u001B[38;5;28mself\u001B[39m\u001B[38;5;241m.\u001B[39mants:\n\u001B[0;32m--> 343\u001B[0m     ant\u001B[38;5;241m.\u001B[39mjoin()\n\u001B[1;32m    344\u001B[0m \u001B[38;5;28mself\u001B[39m\u001B[38;5;241m.\u001B[39mupdate_pheromone()\n\u001B[1;32m    345\u001B[0m clear_output(wait\u001B[38;5;241m=\u001B[39m\u001B[38;5;28;01mTrue\u001B[39;00m)\n",
      "File \u001B[0;32m~/anaconda3/lib/python3.11/threading.py:1119\u001B[0m, in \u001B[0;36mThread.join\u001B[0;34m(self, timeout)\u001B[0m\n\u001B[1;32m   1116\u001B[0m     \u001B[38;5;28;01mraise\u001B[39;00m \u001B[38;5;167;01mRuntimeError\u001B[39;00m(\u001B[38;5;124m\"\u001B[39m\u001B[38;5;124mcannot join current thread\u001B[39m\u001B[38;5;124m\"\u001B[39m)\n\u001B[1;32m   1118\u001B[0m \u001B[38;5;28;01mif\u001B[39;00m timeout \u001B[38;5;129;01mis\u001B[39;00m \u001B[38;5;28;01mNone\u001B[39;00m:\n\u001B[0;32m-> 1119\u001B[0m     \u001B[38;5;28mself\u001B[39m\u001B[38;5;241m.\u001B[39m_wait_for_tstate_lock()\n\u001B[1;32m   1120\u001B[0m \u001B[38;5;28;01melse\u001B[39;00m:\n\u001B[1;32m   1121\u001B[0m     \u001B[38;5;66;03m# the behavior of a negative timeout isn't documented, but\u001B[39;00m\n\u001B[1;32m   1122\u001B[0m     \u001B[38;5;66;03m# historically .join(timeout=x) for x<0 has acted as if timeout=0\u001B[39;00m\n\u001B[1;32m   1123\u001B[0m     \u001B[38;5;28mself\u001B[39m\u001B[38;5;241m.\u001B[39m_wait_for_tstate_lock(timeout\u001B[38;5;241m=\u001B[39m\u001B[38;5;28mmax\u001B[39m(timeout, \u001B[38;5;241m0\u001B[39m))\n",
      "File \u001B[0;32m~/anaconda3/lib/python3.11/threading.py:1139\u001B[0m, in \u001B[0;36mThread._wait_for_tstate_lock\u001B[0;34m(self, block, timeout)\u001B[0m\n\u001B[1;32m   1136\u001B[0m     \u001B[38;5;28;01mreturn\u001B[39;00m\n\u001B[1;32m   1138\u001B[0m \u001B[38;5;28;01mtry\u001B[39;00m:\n\u001B[0;32m-> 1139\u001B[0m     \u001B[38;5;28;01mif\u001B[39;00m lock\u001B[38;5;241m.\u001B[39macquire(block, timeout):\n\u001B[1;32m   1140\u001B[0m         lock\u001B[38;5;241m.\u001B[39mrelease()\n\u001B[1;32m   1141\u001B[0m         \u001B[38;5;28mself\u001B[39m\u001B[38;5;241m.\u001B[39m_stop()\n",
      "\u001B[0;31mKeyboardInterrupt\u001B[0m: "
     ]
    }
   ]
  },
  {
   "cell_type": "code",
   "id": "207519d0-d375-4005-90f5-2ffd6f870939",
   "metadata": {
    "ExecuteTime": {
     "end_time": "2025-04-19T17:01:29.901683Z",
     "start_time": "2025-04-19T17:01:29.892569Z"
    }
   },
   "source": "from src.pso import Swarm",
   "outputs": [],
   "execution_count": 3
  },
  {
   "cell_type": "code",
   "id": "d0fd69f44d7a6127",
   "metadata": {
    "ExecuteTime": {
     "end_time": "2025-04-19T17:01:53.339251Z",
     "start_time": "2025-04-19T17:01:53.329960Z"
    }
   },
   "source": [
    "from IPython.core.display_functions import clear_output\n",
    "\n",
    "\n",
    "def solve_test1(filename):\n",
    "    file_path = os.path.join('../data/', filename)\n",
    "    coords = read_tsp_file(file_path)\n",
    "    \n",
    "    dist_matrix = distance_matrix(coords, coords)\n",
    "    graph = Graph(dist_matrix, coords)\n",
    "    pso = Swarm(graph,\n",
    "              16,\n",
    "                0.5)\n",
    "    for i in range(10000):\n",
    "        best_distance = pso.solve()\n",
    "        clear_output()\n",
    "        assert pso.best_cost == graph.path_cost(pso.best_position.route), f'Best path cost is {pso.best_cost}'\n",
    "        print(i, best_distance)\n",
    "    return best_distance, pso.best_position"
   ],
   "outputs": [],
   "execution_count": 6
  },
  {
   "cell_type": "code",
   "id": "400e26554ce5265a",
   "metadata": {},
   "source": "dst, pos = solve_test1('tsp_1889_1')",
   "execution_count": 8,
   "outputs": [
    {
     "name": "stdout",
     "output_type": "stream",
     "text": [
      "5 12531431.17450033\n"
     ]
    },
    {
     "ename": "KeyboardInterrupt",
     "evalue": "",
     "output_type": "error",
     "traceback": [
      "\u001B[0;31m---------------------------------------------------------------------------\u001B[0m",
      "\u001B[0;31mKeyboardInterrupt\u001B[0m                         Traceback (most recent call last)",
      "Cell \u001B[0;32mIn[8], line 1\u001B[0m\n\u001B[0;32m----> 1\u001B[0m dst, pos \u001B[38;5;241m=\u001B[39m solve_test1(\u001B[38;5;124m'\u001B[39m\u001B[38;5;124mtsp_1889_1\u001B[39m\u001B[38;5;124m'\u001B[39m)\n",
      "Cell \u001B[0;32mIn[6], line 14\u001B[0m, in \u001B[0;36msolve_test1\u001B[0;34m(filename)\u001B[0m\n\u001B[1;32m     10\u001B[0m pso \u001B[38;5;241m=\u001B[39m Swarm(graph,\n\u001B[1;32m     11\u001B[0m           \u001B[38;5;241m16\u001B[39m,\n\u001B[1;32m     12\u001B[0m             \u001B[38;5;241m0.5\u001B[39m)\n\u001B[1;32m     13\u001B[0m \u001B[38;5;28;01mfor\u001B[39;00m i \u001B[38;5;129;01min\u001B[39;00m \u001B[38;5;28mrange\u001B[39m(\u001B[38;5;241m10000\u001B[39m):\n\u001B[0;32m---> 14\u001B[0m     best_distance \u001B[38;5;241m=\u001B[39m pso\u001B[38;5;241m.\u001B[39msolve()\n\u001B[1;32m     15\u001B[0m     clear_output()\n\u001B[1;32m     16\u001B[0m     \u001B[38;5;28;01massert\u001B[39;00m pso\u001B[38;5;241m.\u001B[39mbest_cost \u001B[38;5;241m==\u001B[39m graph\u001B[38;5;241m.\u001B[39mpath_cost(pso\u001B[38;5;241m.\u001B[39mbest_position\u001B[38;5;241m.\u001B[39mroute), \u001B[38;5;124mf\u001B[39m\u001B[38;5;124m'\u001B[39m\u001B[38;5;124mBest path cost is \u001B[39m\u001B[38;5;132;01m{\u001B[39;00mpso\u001B[38;5;241m.\u001B[39mbest_cost\u001B[38;5;132;01m}\u001B[39;00m\u001B[38;5;124m'\u001B[39m\n",
      "File \u001B[0;32m~/compl/project/src/pso.py:153\u001B[0m, in \u001B[0;36mSwarm.solve\u001B[0;34m(self)\u001B[0m\n\u001B[1;32m    151\u001B[0m \u001B[38;5;28;01melse\u001B[39;00m:\n\u001B[1;32m    152\u001B[0m     \u001B[38;5;28;01mif\u001B[39;00m moves_since_best_changed \u001B[38;5;241m<\u001B[39m \u001B[38;5;241m4\u001B[39m:\n\u001B[0;32m--> 153\u001B[0m         best_changed \u001B[38;5;241m=\u001B[39m \u001B[38;5;28mself\u001B[39m\u001B[38;5;241m.\u001B[39mlazy_descent()\n\u001B[1;32m    154\u001B[0m     \u001B[38;5;28;01melse\u001B[39;00m:\n\u001B[1;32m    155\u001B[0m         best_changed \u001B[38;5;241m=\u001B[39m \u001B[38;5;28mself\u001B[39m\u001B[38;5;241m.\u001B[39menergetic_descent()\n",
      "File \u001B[0;32m~/compl/project/src/pso.py:177\u001B[0m, in \u001B[0;36mSwarm.lazy_descent\u001B[0;34m(self)\u001B[0m\n\u001B[1;32m    175\u001B[0m \u001B[38;5;28mself\u001B[39m\u001B[38;5;241m.\u001B[39mparticles_back_to_best()\n\u001B[1;32m    176\u001B[0m \u001B[38;5;28;01mfor\u001B[39;00m _ \u001B[38;5;129;01min\u001B[39;00m \u001B[38;5;28mrange\u001B[39m(\u001B[38;5;28mself\u001B[39m\u001B[38;5;241m.\u001B[39mgraph\u001B[38;5;241m.\u001B[39mn):\n\u001B[0;32m--> 177\u001B[0m     \u001B[38;5;28;01mif\u001B[39;00m \u001B[38;5;28mself\u001B[39m\u001B[38;5;241m.\u001B[39mmove_all_slowly():\n\u001B[1;32m    178\u001B[0m         best_changed \u001B[38;5;241m=\u001B[39m \u001B[38;5;28;01mTrue\u001B[39;00m\n\u001B[1;32m    179\u001B[0m         \u001B[38;5;28;01mbreak\u001B[39;00m\n",
      "File \u001B[0;32m~/compl/project/src/pso.py:203\u001B[0m, in \u001B[0;36mSwarm.move_all_slowly\u001B[0;34m(self)\u001B[0m\n\u001B[1;32m    201\u001B[0m a, b \u001B[38;5;241m=\u001B[39m random\u001B[38;5;241m.\u001B[39msample(\u001B[38;5;28mrange\u001B[39m(\u001B[38;5;28mself\u001B[39m\u001B[38;5;241m.\u001B[39mgraph\u001B[38;5;241m.\u001B[39mn), \u001B[38;5;241m2\u001B[39m)\n\u001B[1;32m    202\u001B[0m particle\u001B[38;5;241m.\u001B[39mvelocity \u001B[38;5;241m=\u001B[39m Velocity([(a, b)])\n\u001B[0;32m--> 203\u001B[0m particle\u001B[38;5;241m.\u001B[39mmove()\n\u001B[1;32m    204\u001B[0m \u001B[38;5;28;01mif\u001B[39;00m particle\u001B[38;5;241m.\u001B[39mcost \u001B[38;5;241m<\u001B[39m \u001B[38;5;28mself\u001B[39m\u001B[38;5;241m.\u001B[39mbest_cost:\n\u001B[1;32m    205\u001B[0m     \u001B[38;5;28mself\u001B[39m\u001B[38;5;241m.\u001B[39mbest_cost \u001B[38;5;241m=\u001B[39m particle\u001B[38;5;241m.\u001B[39mcost\n",
      "File \u001B[0;32m~/compl/project/src/pso.py:103\u001B[0m, in \u001B[0;36mParticle.move\u001B[0;34m(self)\u001B[0m\n\u001B[1;32m    100\u001B[0m \u001B[38;5;28;01mfor\u001B[39;00m fr, to \u001B[38;5;129;01min\u001B[39;00m \u001B[38;5;28mself\u001B[39m\u001B[38;5;241m.\u001B[39mvelocity\u001B[38;5;241m.\u001B[39mswaps:\n\u001B[1;32m    101\u001B[0m     \u001B[38;5;28mself\u001B[39m\u001B[38;5;241m.\u001B[39mposition\u001B[38;5;241m.\u001B[39mroute[fr], \u001B[38;5;28mself\u001B[39m\u001B[38;5;241m.\u001B[39mposition\u001B[38;5;241m.\u001B[39mroute[to] \u001B[38;5;241m=\u001B[39m\\\n\u001B[1;32m    102\u001B[0m         \u001B[38;5;28mself\u001B[39m\u001B[38;5;241m.\u001B[39mposition\u001B[38;5;241m.\u001B[39mroute[to], \u001B[38;5;28mself\u001B[39m\u001B[38;5;241m.\u001B[39mposition\u001B[38;5;241m.\u001B[39mroute[fr]\n\u001B[0;32m--> 103\u001B[0m \u001B[38;5;28mself\u001B[39m\u001B[38;5;241m.\u001B[39mcalc_cost()\n\u001B[1;32m    104\u001B[0m \u001B[38;5;28;01mif\u001B[39;00m \u001B[38;5;28mself\u001B[39m\u001B[38;5;241m.\u001B[39mcost \u001B[38;5;241m<\u001B[39m \u001B[38;5;28mself\u001B[39m\u001B[38;5;241m.\u001B[39mpbest_cost:\n\u001B[1;32m    105\u001B[0m     \u001B[38;5;28mself\u001B[39m\u001B[38;5;241m.\u001B[39mpbest_cost \u001B[38;5;241m=\u001B[39m \u001B[38;5;28mself\u001B[39m\u001B[38;5;241m.\u001B[39mcost\n",
      "File \u001B[0;32m~/compl/project/src/pso.py:97\u001B[0m, in \u001B[0;36mParticle.calc_cost\u001B[0;34m(self)\u001B[0m\n\u001B[1;32m     96\u001B[0m \u001B[38;5;28;01mdef\u001B[39;00m \u001B[38;5;21mcalc_cost\u001B[39m(\u001B[38;5;28mself\u001B[39m):\n\u001B[0;32m---> 97\u001B[0m     \u001B[38;5;28mself\u001B[39m\u001B[38;5;241m.\u001B[39mcost \u001B[38;5;241m=\u001B[39m \u001B[38;5;28mself\u001B[39m\u001B[38;5;241m.\u001B[39mgraph\u001B[38;5;241m.\u001B[39mpath_cost(\u001B[38;5;28mself\u001B[39m\u001B[38;5;241m.\u001B[39mposition\u001B[38;5;241m.\u001B[39mroute \u001B[38;5;241m+\u001B[39m \u001B[38;5;28mself\u001B[39m\u001B[38;5;241m.\u001B[39mposition\u001B[38;5;241m.\u001B[39mroute[:\u001B[38;5;241m1\u001B[39m])\n",
      "File \u001B[0;32m~/compl/project/src/graph.py:83\u001B[0m, in \u001B[0;36mGraph.path_cost\u001B[0;34m(self, route)\u001B[0m\n\u001B[1;32m     82\u001B[0m \u001B[38;5;28;01mdef\u001B[39;00m \u001B[38;5;21mpath_cost\u001B[39m(\u001B[38;5;28mself\u001B[39m, route):\n\u001B[0;32m---> 83\u001B[0m     \u001B[38;5;28;01mreturn\u001B[39;00m np\u001B[38;5;241m.\u001B[39msum(\u001B[38;5;28mself\u001B[39m\u001B[38;5;241m.\u001B[39mdistance_matrix[route, route[\u001B[38;5;241m1\u001B[39m:] \u001B[38;5;241m+\u001B[39m route[:\u001B[38;5;241m1\u001B[39m]])\n",
      "File \u001B[0;32m~/anaconda3/lib/python3.11/site-packages/numpy/core/fromnumeric.py:2172\u001B[0m, in \u001B[0;36m_sum_dispatcher\u001B[0;34m(a, axis, dtype, out, keepdims, initial, where)\u001B[0m\n\u001B[1;32m   2102\u001B[0m \u001B[38;5;250m    \u001B[39m\u001B[38;5;124;03m\"\"\"\u001B[39;00m\n\u001B[1;32m   2103\u001B[0m \u001B[38;5;124;03m    Clip (limit) the values in an array.\u001B[39;00m\n\u001B[1;32m   2104\u001B[0m \n\u001B[0;32m   (...)\u001B[0m\n\u001B[1;32m   2167\u001B[0m \n\u001B[1;32m   2168\u001B[0m \u001B[38;5;124;03m    \"\"\"\u001B[39;00m\n\u001B[1;32m   2169\u001B[0m     \u001B[38;5;28;01mreturn\u001B[39;00m _wrapfunc(a, \u001B[38;5;124m'\u001B[39m\u001B[38;5;124mclip\u001B[39m\u001B[38;5;124m'\u001B[39m, a_min, a_max, out\u001B[38;5;241m=\u001B[39mout, \u001B[38;5;241m*\u001B[39m\u001B[38;5;241m*\u001B[39mkwargs)\n\u001B[0;32m-> 2172\u001B[0m \u001B[38;5;28;01mdef\u001B[39;00m \u001B[38;5;21m_sum_dispatcher\u001B[39m(a, axis\u001B[38;5;241m=\u001B[39m\u001B[38;5;28;01mNone\u001B[39;00m, dtype\u001B[38;5;241m=\u001B[39m\u001B[38;5;28;01mNone\u001B[39;00m, out\u001B[38;5;241m=\u001B[39m\u001B[38;5;28;01mNone\u001B[39;00m, keepdims\u001B[38;5;241m=\u001B[39m\u001B[38;5;28;01mNone\u001B[39;00m,\n\u001B[1;32m   2173\u001B[0m                     initial\u001B[38;5;241m=\u001B[39m\u001B[38;5;28;01mNone\u001B[39;00m, where\u001B[38;5;241m=\u001B[39m\u001B[38;5;28;01mNone\u001B[39;00m):\n\u001B[1;32m   2174\u001B[0m     \u001B[38;5;28;01mreturn\u001B[39;00m (a, out)\n\u001B[1;32m   2177\u001B[0m \u001B[38;5;129m@array_function_dispatch\u001B[39m(_sum_dispatcher)\n\u001B[1;32m   2178\u001B[0m \u001B[38;5;28;01mdef\u001B[39;00m \u001B[38;5;21msum\u001B[39m(a, axis\u001B[38;5;241m=\u001B[39m\u001B[38;5;28;01mNone\u001B[39;00m, dtype\u001B[38;5;241m=\u001B[39m\u001B[38;5;28;01mNone\u001B[39;00m, out\u001B[38;5;241m=\u001B[39m\u001B[38;5;28;01mNone\u001B[39;00m, keepdims\u001B[38;5;241m=\u001B[39mnp\u001B[38;5;241m.\u001B[39m_NoValue,\n\u001B[1;32m   2179\u001B[0m         initial\u001B[38;5;241m=\u001B[39mnp\u001B[38;5;241m.\u001B[39m_NoValue, where\u001B[38;5;241m=\u001B[39mnp\u001B[38;5;241m.\u001B[39m_NoValue):\n",
      "\u001B[0;31mKeyboardInterrupt\u001B[0m: "
     ]
    }
   ]
  },
  {
   "cell_type": "code",
   "id": "fafcb015334625f6",
   "metadata": {
    "ExecuteTime": {
     "end_time": "2025-04-19T13:41:37.654597Z",
     "start_time": "2025-04-19T13:41:37.640517Z"
    }
   },
   "source": [
    "from src.pso import Position\n",
    "pos.route"
   ],
   "outputs": [
    {
     "data": {
      "text/plain": [
       "[46,\n",
       " 8,\n",
       " 4,\n",
       " 34,\n",
       " 23,\n",
       " 30,\n",
       " 12,\n",
       " 36,\n",
       " 1,\n",
       " 31,\n",
       " 22,\n",
       " 33,\n",
       " 0,\n",
       " 5,\n",
       " 2,\n",
       " 47,\n",
       " 26,\n",
       " 27,\n",
       " 28,\n",
       " 10,\n",
       " 9,\n",
       " 24,\n",
       " 41,\n",
       " 6,\n",
       " 32,\n",
       " 48,\n",
       " 17,\n",
       " 49,\n",
       " 39,\n",
       " 50,\n",
       " 43,\n",
       " 21,\n",
       " 37,\n",
       " 42,\n",
       " 11,\n",
       " 19,\n",
       " 7,\n",
       " 13,\n",
       " 35,\n",
       " 40,\n",
       " 18,\n",
       " 16,\n",
       " 14,\n",
       " 44,\n",
       " 15,\n",
       " 38,\n",
       " 29,\n",
       " 25,\n",
       " 20,\n",
       " 45,\n",
       " 3]"
      ]
     },
     "execution_count": 13,
     "metadata": {},
     "output_type": "execute_result"
    }
   ],
   "execution_count": 13
  },
  {
   "metadata": {
    "ExecuteTime": {
     "end_time": "2025-04-19T13:41:40.600148Z",
     "start_time": "2025-04-19T13:41:40.589753Z"
    }
   },
   "cell_type": "code",
   "source": [
    "\n",
    "file_path = os.path.join('../data/', 'tsp_51_1')\n",
    "coords = read_tsp_file(file_path)\n",
    "\n",
    "dist_matrix = distance_matrix(coords, coords)\n",
    "graph = Graph(dist_matrix, coords)\n",
    "graph.distance_matrix[pos.route, pos.route[1:] + pos.route[:1]].sum()"
   ],
   "id": "1f51c4017ef5ea13",
   "outputs": [
    {
     "data": {
      "text/plain": [
       "545.1097530216496"
      ]
     },
     "execution_count": 14,
     "metadata": {},
     "output_type": "execute_result"
    }
   ],
   "execution_count": 14
  },
  {
   "metadata": {
    "ExecuteTime": {
     "end_time": "2025-04-19T13:41:42.059332Z",
     "start_time": "2025-04-19T13:41:42.051860Z"
    }
   },
   "cell_type": "code",
   "source": [
    "rt = pos.route + pos.route[:1]\n",
    "graph.distance_matrix[rt, rt[1:] + rt[:1]].sum()\n"
   ],
   "id": "ccd589f2a133bd3",
   "outputs": [
    {
     "data": {
      "text/plain": [
       "545.1097530216496"
      ]
     },
     "execution_count": 15,
     "metadata": {},
     "output_type": "execute_result"
    }
   ],
   "execution_count": 15
  },
  {
   "metadata": {},
   "cell_type": "code",
   "outputs": [],
   "execution_count": null,
   "source": "",
   "id": "87e6e01e89b55985"
  }
 ],
 "metadata": {
  "kernelspec": {
   "display_name": "Python 3 (ipykernel)",
   "language": "python",
   "name": "python3"
  },
  "language_info": {
   "codemirror_mode": {
    "name": "ipython",
    "version": 3
   },
   "file_extension": ".py",
   "mimetype": "text/x-python",
   "name": "python",
   "nbconvert_exporter": "python",
   "pygments_lexer": "ipython3",
   "version": "3.13.2"
  }
 },
 "nbformat": 4,
 "nbformat_minor": 5
}

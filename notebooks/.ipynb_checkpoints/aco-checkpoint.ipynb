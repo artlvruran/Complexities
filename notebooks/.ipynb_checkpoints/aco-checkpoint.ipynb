{
 "cells": [
  {
   "cell_type": "code",
   "execution_count": 1,
   "id": "initial_id",
   "metadata": {},
   "source": [
    "import os, sys\n",
    "\n",
    "import matplotlib.pyplot as plt\n",
    "dir2 = os.path.abspath('')\n",
    "dir1 = os.path.dirname(dir2)\n",
    "if not dir1 in sys.path: sys.path.append(dir1)\n",
    "\n",
    "\n",
    "import numpy as np\n",
    "from scipy.spatial import distance_matrix\n",
    "from src.aco import Colony\n",
    "from src.graph import Graph"
   ],
   "outputs": []
  },
  {
   "cell_type": "code",
   "execution_count": 2,
   "id": "1913a66b1c8a5c8d",
   "metadata": {},
   "source": [
    "def read_tsp_file(file_path: str) -> np.ndarray:\n",
    "    with open(file_path, 'r') as f:\n",
    "        lines = [line.strip() for line in f if line.strip()]\n",
    "        num_cities = int(lines[0])\n",
    "        coords = []\n",
    "        for line in lines[1:num_cities+1]:\n",
    "            x, y = map(float, line.split())\n",
    "            coords.append([x, y])\n",
    "        \n",
    "        return np.array(coords)\n",
    "\n"
   ],
   "outputs": []
  },
  {
   "cell_type": "code",
   "execution_count": 5,
   "id": "9946ed8b5890f365",
   "metadata": {
    "ExecuteTime": {
     "end_time": "2025-04-16T09:39:46.267319Z",
     "start_time": "2025-04-16T09:39:46.258021Z"
    }
   },
   "source": [
    "def solve_test(filename):\n",
    "    file_path = os.path.join('../data/', filename)\n",
    "    coords = read_tsp_file(file_path)\n",
    "    \n",
    "    dist_matrix = distance_matrix(coords, coords)\n",
    "    graph = Graph(dist_matrix, coords, eval_nn=False)\n",
    "    fig, ax = plt.subplots()\n",
    "    aco = Colony(\n",
    "        graph=graph,\n",
    "        ant_count=30,\n",
    "        generations=1000,\n",
    "        fig=fig,\n",
    "        ax=ax,\n",
    "        type='acs',\n",
    "        top=5,\n",
    "        alpha=1,\n",
    "        beta=5,\n",
    "        rho=0.1,\n",
    "        q0=0.9,\n",
    "        phi=0.1,\n",
    "        ls_type='2-opt',\n",
    "        ls_probability=0.2,\n",
    "        k_nearest=15,\n",
    "        ls_max_changes=50,\n",
    "    )\n",
    "    best_path, best_distance = aco.run();"
   ],
   "outputs": []
  },
  {
   "cell_type": "code",
   "execution_count": 6,
   "id": "b7fc11fcf1fbc442",
   "metadata": {
    "ExecuteTime": {
     "end_time": "2025-04-16T09:40:13.698942Z",
     "start_time": "2025-04-16T09:40:01.740744Z"
    },
    "scrolled": true
   },
   "source": [
    "%matplotlib widget\n",
    "solve_test('tsp_51_1')"
   ],
   "outputs": []
  },
  {
   "cell_type": "code",
   "execution_count": null,
   "id": "207519d0-d375-4005-90f5-2ffd6f870939",
   "metadata": {},
   "source": [],
   "outputs": []
  }
 ],
 "metadata": {
  "kernelspec": {
   "display_name": "Python 3 (ipykernel)",
   "language": "python",
   "name": "python3"
  },
  "language_info": {
   "codemirror_mode": {
    "name": "ipython",
    "version": 3
   },
   "file_extension": ".py",
   "mimetype": "text/x-python",
   "name": "python",
   "nbconvert_exporter": "python",
   "pygments_lexer": "ipython3",
   "version": "3.13.2"
  }
 },
 "nbformat": 4,
 "nbformat_minor": 5
}
